{
 "cells": [
  {
   "cell_type": "markdown",
   "metadata": {},
   "source": [
    "# MLOps Lab 2 Assignment (MLFlow)\n",
    "\n",
    "Author: Grant Nitta\n",
    "\n",
    "Date Created: 03/20/2025\n",
    "\n",
    "Date Last Modified: 03/20/2025"
   ]
  },
  {
   "cell_type": "markdown",
   "metadata": {},
   "source": [
    "# Task\n",
    "\n",
    "Once you have selected a set of data, create a brand new experiment in MLFlow and begin exploring your data. Do some EDA, clean up, and learn about your data. You do not need to begin tracking anything yet, but you can if you want to (e.g. you can log different versions of your data as you clean it up and do any feature engineering). Do not spend a ton of time on this part. Your goal isn't really to build a great model, so don't spend hours on feature engineering and missing data imputation and things like that.\n",
    "\n",
    "Once your data is clean, begin training models and tracking your experiments. If you intend to use this same dataset for your final project, then start thinking about what your model might look like when you actually deploy it. For example, when you engineer new features, be sure to save the code that does this, as you will need this in the future. If your final model has 1000 complex features, you might have a difficult time deploying it later on. If your final model takes 15 minutes to train, or takes a long time to score a new batch of data, you may want to think about training a less complex model.\n",
    "\n",
    "Now, when tracking your experiments, at a *minimum*, you should:\n",
    "\n",
    "1. Try at least 3 different ML algorithms (e.g. linear regression, decision tree, random forest, etc.).\n",
    "2. Do hyperparameter tuning for **each** algorithm.\n",
    "3. Do some very basic feature selection, and repeat the above steps with these reduced sets of features.\n",
    "4. Identify the top 3 best models and note these down for later.\n",
    "6. Choose the **final** \"best\" model that you would deploy or use on future data, stage it (in MLFlow), and run it on the test set to get a final measure of performance. Don't forget to log the test set metric.\n",
    "7. Be sure you logged the exact training, validation, and testing datasets for the 3 best models, as well as hyperparameter values, and the values of your metrics.  \n",
    "8. Push your code to Github. No need to track the mlruns folder, the images folder, any datasets, or the sqlite database in git."
   ]
  },
  {
   "cell_type": "markdown",
   "metadata": {},
   "source": [
    "# Library Importation"
   ]
  },
  {
   "cell_type": "code",
   "execution_count": 1,
   "metadata": {},
   "outputs": [],
   "source": [
    "import mlflow\n",
    "import pandas as pd\n",
    "import numpy as np\n",
    "\n",
    "from sklearn.metrics import accuracy_score\n",
    "from sklearn.tree import DecisionTreeClassifier\n",
    "from sklearn.preprocessing import LabelEncoder\n",
    "from sklearn.ensemble import RandomForestClassifier, GradientBoostingClassifier\n",
    "from sklearn.model_selection import cross_val_score, train_test_split\n",
    "\n",
    "from statsmodels.stats.outliers_influence import variance_inflation_factor\n",
    "\n",
    "\n",
    "from hyperopt import fmin, tpe, hp, STATUS_OK, Trials"
   ]
  },
  {
   "cell_type": "markdown",
   "metadata": {},
   "source": [
    "# Data Importation"
   ]
  },
  {
   "cell_type": "code",
   "execution_count": 2,
   "metadata": {},
   "outputs": [],
   "source": [
    "# pip install ucimlrepo\n",
    "# !pip install statsmodels"
   ]
  },
  {
   "cell_type": "code",
   "execution_count": 3,
   "metadata": {},
   "outputs": [],
   "source": [
    "from ucimlrepo import fetch_ucirepo\n",
    "\n",
    "# fetch dataset\n",
    "student_performance = fetch_ucirepo(id=320)\n",
    "\n",
    "# data (as pandas dataframes)\n",
    "X = student_performance.data.features\n",
    "y = student_performance.data.targets\n",
    "\n",
    "# metadata\n",
    "# print(student_performance.metadata)\n",
    "\n",
    "# # variable information\n",
    "# print(student_performance.variables)"
   ]
  },
  {
   "cell_type": "markdown",
   "metadata": {},
   "source": [
    "# Setting up MLFlow"
   ]
  },
  {
   "cell_type": "code",
   "execution_count": 4,
   "metadata": {},
   "outputs": [
    {
     "name": "stderr",
     "output_type": "stream",
     "text": [
      "2025/03/20 18:47:35 INFO mlflow.tracking.fluent: Experiment with name 'Lab2-student_performance_V2' does not exist. Creating a new experiment.\n"
     ]
    },
    {
     "data": {
      "text/plain": [
       "<Experiment: artifact_location='/Users/skier/MSDS/Spring2/Spring2-MSDS-MLOps/labs/lab2/mlruns/4', creation_time=1742521655423, experiment_id='4', last_update_time=1742521655423, lifecycle_stage='active', name='Lab2-student_performance_V2', tags={}>"
      ]
     },
     "execution_count": 4,
     "metadata": {},
     "output_type": "execute_result"
    }
   ],
   "source": [
    "mlflow.set_tracking_uri(\"sqlite:///mlflow.db\")\n",
    "mlflow.set_experiment(\"Lab2-student_performance_V2\")"
   ]
  },
  {
   "cell_type": "markdown",
   "metadata": {},
   "source": [
    "# Experimenting Phase 1"
   ]
  },
  {
   "cell_type": "code",
   "execution_count": 5,
   "metadata": {},
   "outputs": [],
   "source": [
    "X_encoded = X.copy()\n",
    "\n",
    "# Track column transformations\n",
    "column_mapping = {}\n",
    "label_encoders = {}\n",
    "\n",
    "# Find all object and category columns\n",
    "string_columns = X.select_dtypes(include=[\"object\", \"category\"]).columns\n",
    "\n",
    "for col in string_columns:\n",
    "    # For columns with many unique values, use label encoding\n",
    "    le = LabelEncoder()\n",
    "    X_encoded[col + \"_encoded\"] = le.fit_transform(X[col])\n",
    "\n",
    "    # Drop the original column\n",
    "    X_encoded = X_encoded.drop(col, axis=1)\n",
    "\n",
    "    # Store mapping information\n",
    "    column_mapping[col] = [col + \"_encoded\"]\n",
    "    label_encoders[col] = le\n",
    "\n",
    "X_encoded = X_encoded.astype(float)"
   ]
  },
  {
   "cell_type": "code",
   "execution_count": 6,
   "metadata": {},
   "outputs": [],
   "source": [
    "y_use = y[\"G1\"]"
   ]
  },
  {
   "cell_type": "code",
   "execution_count": 7,
   "metadata": {},
   "outputs": [],
   "source": [
    "X_train, X_test, y_train, y_test = train_test_split(\n",
    "    X_encoded, y_use, test_size=0.2, shuffle=True\n",
    ")"
   ]
  },
  {
   "cell_type": "code",
   "execution_count": 8,
   "metadata": {},
   "outputs": [],
   "source": [
    "def objective(params):\n",
    "    with mlflow.start_run():\n",
    "        classifier_type = params[\"type\"]\n",
    "        del params[\"type\"]\n",
    "        if classifier_type == \"dt\":\n",
    "            clf = DecisionTreeClassifier(**params)\n",
    "        elif classifier_type == \"rf\":\n",
    "            clf = RandomForestClassifier(**params)\n",
    "        elif classifier_type == \"gb\":\n",
    "            clf = GradientBoostingClassifier(**params)\n",
    "        else:\n",
    "            return 0\n",
    "        acc = cross_val_score(clf, X_train, y_train).mean()\n",
    "\n",
    "        mlflow.set_tag(\"Model\", classifier_type)\n",
    "        mlflow.log_params(params)\n",
    "        mlflow.log_metric(\"accuracy\", acc)\n",
    "        mlflow.end_run()\n",
    "        return {\"loss\": -acc, \"status\": STATUS_OK}\n",
    "\n",
    "\n",
    "search_space = hp.choice(\n",
    "    \"classifier_type\",\n",
    "    [\n",
    "        {\n",
    "            \"type\": \"dt\",\n",
    "            \"criterion\": hp.choice(\"dtree_criterion\", [\"gini\", \"entropy\"]),\n",
    "            \"max_depth\": hp.choice(\n",
    "                \"dtree_max_depth\",\n",
    "                [None, hp.randint(\"dtree_max_depth_int\", 1, 10)],\n",
    "            ),\n",
    "            \"min_samples_split\": hp.randint(\"dtree_min_samples_split\", 2, 10),\n",
    "        },\n",
    "        {\n",
    "            \"type\": \"rf\",\n",
    "            \"n_estimators\": hp.randint(\"rf_n_estimators\", 20, 500),\n",
    "            \"max_features\": hp.randint(\"rf_max_features\", 2, 9),\n",
    "            \"criterion\": hp.choice(\"criterion\", [\"gini\", \"entropy\"]),\n",
    "        },\n",
    "        {\n",
    "            \"type\": \"gb\",\n",
    "            \"loss\": hp.choice(\"gb_loss\", [\"log_loss\"]),\n",
    "            \"learning_rate\": hp.uniform(\"gb_learning_rate\", 0.05, 2),\n",
    "            \"n_estimators\": hp.randint(\"gb_n_estimators\", 20, 500),\n",
    "            \"subsample\": hp.uniform(\"gb_subsample\", 0.1, 1),\n",
    "            \"criterion\": hp.choice(\n",
    "                \"gb_criterion\", [\"friedman_mse\", \"squared_error\"]\n",
    "            ),\n",
    "            \"max_depth\": hp.choice(\n",
    "                \"gb_max_depth\",\n",
    "                [None, hp.randint(\"gb_max_depth_int\", 1, 10)],\n",
    "            ),\n",
    "        },\n",
    "    ],\n",
    ")\n",
    "\n",
    "algo = tpe.suggest\n",
    "trials = Trials()"
   ]
  },
  {
   "cell_type": "code",
   "execution_count": 9,
   "metadata": {},
   "outputs": [
    {
     "name": "stdout",
     "output_type": "stream",
     "text": [
      "  6%|▋         | 2/32 [00:00<00:01, 16.89trial/s, best loss: -0.15416355489171024]"
     ]
    },
    {
     "name": "stderr",
     "output_type": "stream",
     "text": [
      "/opt/anaconda3/envs/mlops/lib/python3.12/site-packages/sklearn/model_selection/_split.py:776: UserWarning: The least populated class in y has only 1 members, which is less than n_splits=5.\n",
      "  warnings.warn(\n",
      "\n",
      "/opt/anaconda3/envs/mlops/lib/python3.12/site-packages/sklearn/model_selection/_split.py:776: UserWarning: The least populated class in y has only 1 members, which is less than n_splits=5.\n",
      "  warnings.warn(\n",
      "\n",
      "/opt/anaconda3/envs/mlops/lib/python3.12/site-packages/sklearn/model_selection/_split.py:776: UserWarning: The least populated class in y has only 1 members, which is less than n_splits=5.\n",
      "  warnings.warn(\n",
      "\n"
     ]
    },
    {
     "name": "stdout",
     "output_type": "stream",
     "text": [
      " 12%|█▎        | 4/32 [00:04<00:38,  1.38s/trial, best loss: -0.15416355489171024]"
     ]
    },
    {
     "name": "stderr",
     "output_type": "stream",
     "text": [
      "/opt/anaconda3/envs/mlops/lib/python3.12/site-packages/sklearn/model_selection/_split.py:776: UserWarning: The least populated class in y has only 1 members, which is less than n_splits=5.\n",
      "  warnings.warn(\n",
      "\n",
      "/opt/anaconda3/envs/mlops/lib/python3.12/site-packages/sklearn/model_selection/_split.py:776: UserWarning: The least populated class in y has only 1 members, which is less than n_splits=5.\n",
      "  warnings.warn(\n",
      "\n"
     ]
    },
    {
     "name": "stdout",
     "output_type": "stream",
     "text": [
      " 16%|█▌        | 5/32 [00:04<00:27,  1.02s/trial, best loss: -0.16181852128454072]"
     ]
    },
    {
     "name": "stderr",
     "output_type": "stream",
     "text": [
      "/opt/anaconda3/envs/mlops/lib/python3.12/site-packages/sklearn/model_selection/_split.py:776: UserWarning: The least populated class in y has only 1 members, which is less than n_splits=5.\n",
      "  warnings.warn(\n",
      "\n"
     ]
    },
    {
     "name": "stdout",
     "output_type": "stream",
     "text": [
      " 25%|██▌       | 8/32 [00:16<00:53,  2.24s/trial, best loss: -0.16181852128454072]"
     ]
    },
    {
     "name": "stderr",
     "output_type": "stream",
     "text": [
      "/opt/anaconda3/envs/mlops/lib/python3.12/site-packages/sklearn/model_selection/_split.py:776: UserWarning: The least populated class in y has only 1 members, which is less than n_splits=5.\n",
      "  warnings.warn(\n",
      "\n",
      "/opt/anaconda3/envs/mlops/lib/python3.12/site-packages/sklearn/model_selection/_split.py:776: UserWarning: The least populated class in y has only 1 members, which is less than n_splits=5.\n",
      "  warnings.warn(\n",
      "\n",
      "/opt/anaconda3/envs/mlops/lib/python3.12/site-packages/sklearn/model_selection/_split.py:776: UserWarning: The least populated class in y has only 1 members, which is less than n_splits=5.\n",
      "  warnings.warn(\n",
      "\n",
      "/opt/anaconda3/envs/mlops/lib/python3.12/site-packages/sklearn/model_selection/_split.py:776: UserWarning: The least populated class in y has only 1 members, which is less than n_splits=5.\n",
      "  warnings.warn(\n",
      "\n",
      "/opt/anaconda3/envs/mlops/lib/python3.12/site-packages/sklearn/model_selection/_split.py:776: UserWarning: The least populated class in y has only 1 members, which is less than n_splits=5.\n",
      "  warnings.warn(\n",
      "\n",
      "/opt/anaconda3/envs/mlops/lib/python3.12/site-packages/sklearn/model_selection/_split.py:776: UserWarning: The least populated class in y has only 1 members, which is less than n_splits=5.\n",
      "  warnings.warn(\n",
      "\n"
     ]
    },
    {
     "name": "stdout",
     "output_type": "stream",
     "text": [
      " 38%|███▊      | 12/32 [00:32<01:06,  3.31s/trial, best loss: -0.16181852128454072]"
     ]
    },
    {
     "name": "stderr",
     "output_type": "stream",
     "text": [
      "/opt/anaconda3/envs/mlops/lib/python3.12/site-packages/sklearn/model_selection/_split.py:776: UserWarning: The least populated class in y has only 1 members, which is less than n_splits=5.\n",
      "  warnings.warn(\n",
      "\n",
      "/opt/anaconda3/envs/mlops/lib/python3.12/site-packages/sklearn/model_selection/_split.py:776: UserWarning: The least populated class in y has only 1 members, which is less than n_splits=5.\n",
      "  warnings.warn(\n",
      "\n"
     ]
    },
    {
     "name": "stdout",
     "output_type": "stream",
     "text": [
      " 44%|████▍     | 14/32 [00:33<00:43,  2.42s/trial, best loss: -0.16181852128454072]"
     ]
    },
    {
     "name": "stderr",
     "output_type": "stream",
     "text": [
      "/opt/anaconda3/envs/mlops/lib/python3.12/site-packages/sklearn/model_selection/_split.py:776: UserWarning: The least populated class in y has only 1 members, which is less than n_splits=5.\n",
      "  warnings.warn(\n",
      "\n"
     ]
    },
    {
     "name": "stdout",
     "output_type": "stream",
     "text": [
      " 47%|████▋     | 15/32 [00:34<00:38,  2.25s/trial, best loss: -0.16181852128454072]"
     ]
    },
    {
     "name": "stderr",
     "output_type": "stream",
     "text": [
      "/opt/anaconda3/envs/mlops/lib/python3.12/site-packages/sklearn/model_selection/_split.py:776: UserWarning: The least populated class in y has only 1 members, which is less than n_splits=5.\n",
      "  warnings.warn(\n",
      "\n"
     ]
    },
    {
     "name": "stdout",
     "output_type": "stream",
     "text": [
      " 50%|█████     | 16/32 [00:49<01:16,  4.80s/trial, best loss: -0.16181852128454072]"
     ]
    },
    {
     "name": "stderr",
     "output_type": "stream",
     "text": [
      "/opt/anaconda3/envs/mlops/lib/python3.12/site-packages/sklearn/model_selection/_split.py:776: UserWarning: The least populated class in y has only 1 members, which is less than n_splits=5.\n",
      "  warnings.warn(\n",
      "\n",
      "/opt/anaconda3/envs/mlops/lib/python3.12/site-packages/sklearn/model_selection/_split.py:776: UserWarning: The least populated class in y has only 1 members, which is less than n_splits=5.\n",
      "  warnings.warn(\n",
      "\n",
      "/opt/anaconda3/envs/mlops/lib/python3.12/site-packages/sklearn/model_selection/_split.py:776: UserWarning: The least populated class in y has only 1 members, which is less than n_splits=5.\n",
      "  warnings.warn(\n",
      "\n"
     ]
    },
    {
     "name": "stdout",
     "output_type": "stream",
     "text": [
      " 59%|█████▉    | 19/32 [00:57<00:48,  3.70s/trial, best loss: -0.16777445855115758]"
     ]
    },
    {
     "name": "stderr",
     "output_type": "stream",
     "text": [
      "/opt/anaconda3/envs/mlops/lib/python3.12/site-packages/sklearn/model_selection/_split.py:776: UserWarning: The least populated class in y has only 1 members, which is less than n_splits=5.\n",
      "  warnings.warn(\n",
      "\n"
     ]
    },
    {
     "name": "stdout",
     "output_type": "stream",
     "text": [
      " 62%|██████▎   | 20/32 [01:11<01:08,  5.67s/trial, best loss: -0.16777445855115758]"
     ]
    },
    {
     "name": "stderr",
     "output_type": "stream",
     "text": [
      "/opt/anaconda3/envs/mlops/lib/python3.12/site-packages/sklearn/model_selection/_split.py:776: UserWarning: The least populated class in y has only 1 members, which is less than n_splits=5.\n",
      "  warnings.warn(\n",
      "\n"
     ]
    },
    {
     "name": "stdout",
     "output_type": "stream",
     "text": [
      " 66%|██████▌   | 21/32 [01:12<00:50,  4.61s/trial, best loss: -0.17156460044809557]"
     ]
    },
    {
     "name": "stderr",
     "output_type": "stream",
     "text": [
      "/opt/anaconda3/envs/mlops/lib/python3.12/site-packages/sklearn/model_selection/_split.py:776: UserWarning: The least populated class in y has only 1 members, which is less than n_splits=5.\n",
      "  warnings.warn(\n",
      "\n"
     ]
    },
    {
     "name": "stdout",
     "output_type": "stream",
     "text": [
      " 69%|██████▉   | 22/32 [01:12<00:36,  3.67s/trial, best loss: -0.17156460044809557]"
     ]
    },
    {
     "name": "stderr",
     "output_type": "stream",
     "text": [
      "/opt/anaconda3/envs/mlops/lib/python3.12/site-packages/sklearn/model_selection/_split.py:776: UserWarning: The least populated class in y has only 1 members, which is less than n_splits=5.\n",
      "  warnings.warn(\n",
      "\n"
     ]
    },
    {
     "name": "stdout",
     "output_type": "stream",
     "text": [
      " 72%|███████▏  | 23/32 [01:13<00:25,  2.85s/trial, best loss: -0.17724047796863332]"
     ]
    },
    {
     "name": "stderr",
     "output_type": "stream",
     "text": [
      "/opt/anaconda3/envs/mlops/lib/python3.12/site-packages/sklearn/model_selection/_split.py:776: UserWarning: The least populated class in y has only 1 members, which is less than n_splits=5.\n",
      "  warnings.warn(\n",
      "\n"
     ]
    },
    {
     "name": "stdout",
     "output_type": "stream",
     "text": [
      " 75%|███████▌  | 24/32 [01:13<00:17,  2.20s/trial, best loss: -0.18312173263629575]"
     ]
    },
    {
     "name": "stderr",
     "output_type": "stream",
     "text": [
      "/opt/anaconda3/envs/mlops/lib/python3.12/site-packages/sklearn/model_selection/_split.py:776: UserWarning: The least populated class in y has only 1 members, which is less than n_splits=5.\n",
      "  warnings.warn(\n",
      "\n"
     ]
    },
    {
     "name": "stdout",
     "output_type": "stream",
     "text": [
      " 78%|███████▊  | 25/32 [01:14<00:13,  2.00s/trial, best loss: -0.18312173263629575]"
     ]
    },
    {
     "name": "stderr",
     "output_type": "stream",
     "text": [
      "/opt/anaconda3/envs/mlops/lib/python3.12/site-packages/sklearn/model_selection/_split.py:776: UserWarning: The least populated class in y has only 1 members, which is less than n_splits=5.\n",
      "  warnings.warn(\n",
      "\n"
     ]
    },
    {
     "name": "stdout",
     "output_type": "stream",
     "text": [
      " 81%|████████▏ | 26/32 [01:15<00:10,  1.70s/trial, best loss: -0.18312173263629575]"
     ]
    },
    {
     "name": "stderr",
     "output_type": "stream",
     "text": [
      "/opt/anaconda3/envs/mlops/lib/python3.12/site-packages/sklearn/model_selection/_split.py:776: UserWarning: The least populated class in y has only 1 members, which is less than n_splits=5.\n",
      "  warnings.warn(\n",
      "\n"
     ]
    },
    {
     "name": "stdout",
     "output_type": "stream",
     "text": [
      " 84%|████████▍ | 27/32 [01:16<00:06,  1.36s/trial, best loss: -0.18312173263629575]"
     ]
    },
    {
     "name": "stderr",
     "output_type": "stream",
     "text": [
      "/opt/anaconda3/envs/mlops/lib/python3.12/site-packages/sklearn/model_selection/_split.py:776: UserWarning: The least populated class in y has only 1 members, which is less than n_splits=5.\n",
      "  warnings.warn(\n",
      "\n"
     ]
    },
    {
     "name": "stdout",
     "output_type": "stream",
     "text": [
      " 88%|████████▊ | 28/32 [01:17<00:05,  1.34s/trial, best loss: -0.18312173263629575]"
     ]
    },
    {
     "name": "stderr",
     "output_type": "stream",
     "text": [
      "/opt/anaconda3/envs/mlops/lib/python3.12/site-packages/sklearn/model_selection/_split.py:776: UserWarning: The least populated class in y has only 1 members, which is less than n_splits=5.\n",
      "  warnings.warn(\n",
      "\n"
     ]
    },
    {
     "name": "stdout",
     "output_type": "stream",
     "text": [
      " 91%|█████████ | 29/32 [01:19<00:04,  1.36s/trial, best loss: -0.18312173263629575]"
     ]
    },
    {
     "name": "stderr",
     "output_type": "stream",
     "text": [
      "/opt/anaconda3/envs/mlops/lib/python3.12/site-packages/sklearn/model_selection/_split.py:776: UserWarning: The least populated class in y has only 1 members, which is less than n_splits=5.\n",
      "  warnings.warn(\n",
      "\n"
     ]
    },
    {
     "name": "stdout",
     "output_type": "stream",
     "text": [
      " 97%|█████████▋| 31/32 [01:19<00:00,  1.26trial/s, best loss: -0.18312173263629575]"
     ]
    },
    {
     "name": "stderr",
     "output_type": "stream",
     "text": [
      "/opt/anaconda3/envs/mlops/lib/python3.12/site-packages/sklearn/model_selection/_split.py:776: UserWarning: The least populated class in y has only 1 members, which is less than n_splits=5.\n",
      "  warnings.warn(\n",
      "\n",
      "/opt/anaconda3/envs/mlops/lib/python3.12/site-packages/sklearn/model_selection/_split.py:776: UserWarning: The least populated class in y has only 1 members, which is less than n_splits=5.\n",
      "  warnings.warn(\n",
      "\n"
     ]
    },
    {
     "name": "stdout",
     "output_type": "stream",
     "text": [
      "100%|██████████| 32/32 [01:20<00:00,  2.51s/trial, best loss: -0.18312173263629575]\n"
     ]
    }
   ],
   "source": [
    "best_result = fmin(\n",
    "    fn=objective, space=search_space, algo=algo, max_evals=32, trials=trials\n",
    ")"
   ]
  },
  {
   "cell_type": "code",
   "execution_count": 10,
   "metadata": {},
   "outputs": [
    {
     "data": {
      "text/plain": [
       "{'classifier_type': 1,\n",
       " 'criterion': 0,\n",
       " 'rf_max_features': 6,\n",
       " 'rf_n_estimators': 95}"
      ]
     },
     "execution_count": 10,
     "metadata": {},
     "output_type": "execute_result"
    }
   ],
   "source": [
    "best_result"
   ]
  },
  {
   "cell_type": "markdown",
   "metadata": {},
   "source": [
    "# Feature Selection"
   ]
  },
  {
   "cell_type": "code",
   "execution_count": 11,
   "metadata": {},
   "outputs": [
    {
     "name": "stdout",
     "output_type": "stream",
     "text": [
      "[0]\n",
      "age\n",
      "famrel\n",
      "Medu\n",
      "freetime\n",
      "higher_encoded\n",
      "goout\n",
      "Fjob_encoded\n",
      "Pstatus_encoded\n",
      "Walc\n",
      "studytime\n",
      "health\n",
      "Stopping\n"
     ]
    }
   ],
   "source": [
    "X_redcued_train = X_train.copy()\n",
    "VIF = [0]\n",
    "while len(VIF) > 0:\n",
    "    X_numeric = pd.DataFrame()\n",
    "    for col in X_redcued_train.columns:\n",
    "        # Force everything through string conversion to be safe\n",
    "        X_numeric[col] = pd.to_numeric(\n",
    "            X_train[col].astype(str), errors=\"coerce\"\n",
    "        )\n",
    "\n",
    "    # Now calculate VIF\n",
    "    vif_data = pd.DataFrame()\n",
    "    vif_data[\"Feature\"] = X_numeric.columns\n",
    "    vif_data[\"VIF\"] = [\n",
    "        variance_inflation_factor(X_numeric.values, i)\n",
    "        for i in range(X_numeric.shape[1])\n",
    "    ]\n",
    "    vif_test = vif_data.set_index(\"Feature\").sort_values(\n",
    "        by=\"VIF\", ascending=False\n",
    "    )\n",
    "    if vif_test.max().iloc[0] > 5:\n",
    "        print(VIF)\n",
    "        VIF = vif_test.idxmax().iloc[0]\n",
    "        X_redcued_train.drop(VIF, axis=1, inplace=True)\n",
    "    else:\n",
    "        print(\"Stopping\")\n",
    "        VIF = []"
   ]
  },
  {
   "cell_type": "code",
   "execution_count": 12,
   "metadata": {},
   "outputs": [],
   "source": [
    "def objective(params):\n",
    "    with mlflow.start_run():\n",
    "        classifier_type = params[\"type\"]\n",
    "        del params[\"type\"]\n",
    "        if classifier_type == \"dt\":\n",
    "            clf = DecisionTreeClassifier(**params)\n",
    "        elif classifier_type == \"rf\":\n",
    "            clf = RandomForestClassifier(**params)\n",
    "        elif classifier_type == \"gb\":\n",
    "            clf = GradientBoostingClassifier(**params)\n",
    "        else:\n",
    "            return 0\n",
    "        acc = cross_val_score(clf, X_redcued_train, y_train).mean()\n",
    "\n",
    "        mlflow.set_tag(\"Model\", classifier_type)\n",
    "        mlflow.log_params(params)\n",
    "        mlflow.log_metric(\"accuracy\", acc)\n",
    "        mlflow.end_run()\n",
    "        return {\"loss\": -acc, \"status\": STATUS_OK}\n",
    "\n",
    "\n",
    "search_space = hp.choice(\n",
    "    \"classifier_type\",\n",
    "    [\n",
    "        {\n",
    "            \"type\": \"dt\",\n",
    "            \"criterion\": hp.choice(\"dtree_criterion\", [\"gini\", \"entropy\"]),\n",
    "            \"max_depth\": hp.choice(\n",
    "                \"dtree_max_depth\",\n",
    "                [None, hp.randint(\"dtree_max_depth_int\", 1, 10)],\n",
    "            ),\n",
    "            \"min_samples_split\": hp.randint(\"dtree_min_samples_split\", 2, 10),\n",
    "        },\n",
    "        {\n",
    "            \"type\": \"rf\",\n",
    "            \"n_estimators\": hp.randint(\"rf_n_estimators\", 20, 500),\n",
    "            \"max_features\": hp.randint(\"rf_max_features\", 2, 9),\n",
    "            \"criterion\": hp.choice(\"criterion\", [\"gini\", \"entropy\"]),\n",
    "        },\n",
    "        {\n",
    "            \"type\": \"gb\",\n",
    "            \"loss\": hp.choice(\"gb_loss\", [\"log_loss\"]),\n",
    "            \"learning_rate\": hp.uniform(\"gb_learning_rate\", 0.05, 2),\n",
    "            \"n_estimators\": hp.randint(\"gb_n_estimators\", 20, 500),\n",
    "            \"subsample\": hp.uniform(\"gb_subsample\", 0.1, 1),\n",
    "            \"criterion\": hp.choice(\n",
    "                \"gb_criterion\", [\"friedman_mse\", \"squared_error\"]\n",
    "            ),\n",
    "            \"max_depth\": hp.choice(\n",
    "                \"gb_max_depth\",\n",
    "                [None, hp.randint(\"gb_max_depth_int\", 1, 10)],\n",
    "            ),\n",
    "        },\n",
    "    ],\n",
    ")\n",
    "\n",
    "algo = tpe.suggest\n",
    "trials = Trials()"
   ]
  },
  {
   "cell_type": "code",
   "execution_count": 13,
   "metadata": {},
   "outputs": [
    {
     "name": "stdout",
     "output_type": "stream",
     "text": [
      "  0%|          | 0/32 [00:00<?, ?trial/s, best loss=?]"
     ]
    },
    {
     "name": "stderr",
     "output_type": "stream",
     "text": [
      "/opt/anaconda3/envs/mlops/lib/python3.12/site-packages/sklearn/model_selection/_split.py:776: UserWarning: The least populated class in y has only 1 members, which is less than n_splits=5.\n",
      "  warnings.warn(\n",
      "\n",
      "/opt/anaconda3/envs/mlops/lib/python3.12/site-packages/sklearn/model_selection/_split.py:776: UserWarning: The least populated class in y has only 1 members, which is less than n_splits=5.\n",
      "  warnings.warn(\n",
      "\n"
     ]
    },
    {
     "name": "stdout",
     "output_type": "stream",
     "text": [
      "  6%|▋         | 2/32 [00:01<00:22,  1.34trial/s, best loss: -0.154126213592233]"
     ]
    },
    {
     "name": "stderr",
     "output_type": "stream",
     "text": [
      "/opt/anaconda3/envs/mlops/lib/python3.12/site-packages/sklearn/model_selection/_split.py:776: UserWarning: The least populated class in y has only 1 members, which is less than n_splits=5.\n",
      "  warnings.warn(\n",
      "\n"
     ]
    },
    {
     "name": "stdout",
     "output_type": "stream",
     "text": [
      "  9%|▉         | 3/32 [00:07<01:24,  2.92s/trial, best loss: -0.154126213592233]"
     ]
    },
    {
     "name": "stderr",
     "output_type": "stream",
     "text": [
      "/opt/anaconda3/envs/mlops/lib/python3.12/site-packages/sklearn/model_selection/_split.py:776: UserWarning: The least populated class in y has only 1 members, which is less than n_splits=5.\n",
      "  warnings.warn(\n",
      "\n"
     ]
    },
    {
     "name": "stdout",
     "output_type": "stream",
     "text": [
      " 12%|█▎        | 4/32 [00:07<00:56,  2.03s/trial, best loss: -0.154126213592233]"
     ]
    },
    {
     "name": "stderr",
     "output_type": "stream",
     "text": [
      "/opt/anaconda3/envs/mlops/lib/python3.12/site-packages/sklearn/model_selection/_split.py:776: UserWarning: The least populated class in y has only 1 members, which is less than n_splits=5.\n",
      "  warnings.warn(\n",
      "\n"
     ]
    },
    {
     "name": "stdout",
     "output_type": "stream",
     "text": [
      " 16%|█▌        | 5/32 [00:09<00:45,  1.68s/trial, best loss: -0.154126213592233]"
     ]
    },
    {
     "name": "stderr",
     "output_type": "stream",
     "text": [
      "/opt/anaconda3/envs/mlops/lib/python3.12/site-packages/sklearn/model_selection/_split.py:776: UserWarning: The least populated class in y has only 1 members, which is less than n_splits=5.\n",
      "  warnings.warn(\n",
      "\n"
     ]
    },
    {
     "name": "stdout",
     "output_type": "stream",
     "text": [
      " 19%|█▉        | 6/32 [00:19<02:00,  4.65s/trial, best loss: -0.154126213592233]"
     ]
    },
    {
     "name": "stderr",
     "output_type": "stream",
     "text": [
      "/opt/anaconda3/envs/mlops/lib/python3.12/site-packages/sklearn/model_selection/_split.py:776: UserWarning: The least populated class in y has only 1 members, which is less than n_splits=5.\n",
      "  warnings.warn(\n",
      "\n"
     ]
    },
    {
     "name": "stdout",
     "output_type": "stream",
     "text": [
      " 22%|██▏       | 7/32 [00:29<02:39,  6.39s/trial, best loss: -0.154126213592233]"
     ]
    },
    {
     "name": "stderr",
     "output_type": "stream",
     "text": [
      "/opt/anaconda3/envs/mlops/lib/python3.12/site-packages/sklearn/model_selection/_split.py:776: UserWarning: The least populated class in y has only 1 members, which is less than n_splits=5.\n",
      "  warnings.warn(\n",
      "\n",
      "/opt/anaconda3/envs/mlops/lib/python3.12/site-packages/sklearn/model_selection/_split.py:776: UserWarning: The least populated class in y has only 1 members, which is less than n_splits=5.\n",
      "  warnings.warn(\n",
      "\n"
     ]
    },
    {
     "name": "stdout",
     "output_type": "stream",
     "text": [
      " 28%|██▊       | 9/32 [00:47<02:55,  7.63s/trial, best loss: -0.15416355489171024]"
     ]
    },
    {
     "name": "stderr",
     "output_type": "stream",
     "text": [
      "/opt/anaconda3/envs/mlops/lib/python3.12/site-packages/sklearn/model_selection/_split.py:776: UserWarning: The least populated class in y has only 1 members, which is less than n_splits=5.\n",
      "  warnings.warn(\n",
      "\n"
     ]
    },
    {
     "name": "stdout",
     "output_type": "stream",
     "text": [
      " 38%|███▊      | 12/32 [00:48<01:07,  3.37s/trial, best loss: -0.15416355489171024]"
     ]
    },
    {
     "name": "stderr",
     "output_type": "stream",
     "text": [
      "/opt/anaconda3/envs/mlops/lib/python3.12/site-packages/sklearn/model_selection/_split.py:776: UserWarning: The least populated class in y has only 1 members, which is less than n_splits=5.\n",
      "  warnings.warn(\n",
      "\n",
      "/opt/anaconda3/envs/mlops/lib/python3.12/site-packages/sklearn/model_selection/_split.py:776: UserWarning: The least populated class in y has only 1 members, which is less than n_splits=5.\n",
      "  warnings.warn(\n",
      "\n",
      "/opt/anaconda3/envs/mlops/lib/python3.12/site-packages/sklearn/model_selection/_split.py:776: UserWarning: The least populated class in y has only 1 members, which is less than n_splits=5.\n",
      "  warnings.warn(\n",
      "\n",
      "/opt/anaconda3/envs/mlops/lib/python3.12/site-packages/sklearn/model_selection/_split.py:776: UserWarning: The least populated class in y has only 1 members, which is less than n_splits=5.\n",
      "  warnings.warn(\n",
      "\n",
      "/opt/anaconda3/envs/mlops/lib/python3.12/site-packages/sklearn/model_selection/_split.py:776: UserWarning: The least populated class in y has only 1 members, which is less than n_splits=5.\n",
      "  warnings.warn(\n",
      "\n"
     ]
    },
    {
     "name": "stdout",
     "output_type": "stream",
     "text": [
      " 47%|████▋     | 15/32 [01:40<02:51, 10.07s/trial, best loss: -0.17148991784914117]"
     ]
    },
    {
     "name": "stderr",
     "output_type": "stream",
     "text": [
      "/opt/anaconda3/envs/mlops/lib/python3.12/site-packages/sklearn/model_selection/_split.py:776: UserWarning: The least populated class in y has only 1 members, which is less than n_splits=5.\n",
      "  warnings.warn(\n",
      "\n"
     ]
    },
    {
     "name": "stdout",
     "output_type": "stream",
     "text": [
      " 50%|█████     | 16/32 [01:41<02:14,  8.38s/trial, best loss: -0.17148991784914117]"
     ]
    },
    {
     "name": "stderr",
     "output_type": "stream",
     "text": [
      "/opt/anaconda3/envs/mlops/lib/python3.12/site-packages/sklearn/model_selection/_split.py:776: UserWarning: The least populated class in y has only 1 members, which is less than n_splits=5.\n",
      "  warnings.warn(\n",
      "\n"
     ]
    },
    {
     "name": "stdout",
     "output_type": "stream",
     "text": [
      " 53%|█████▎    | 17/32 [01:43<01:45,  7.03s/trial, best loss: -0.17148991784914117]"
     ]
    },
    {
     "name": "stderr",
     "output_type": "stream",
     "text": [
      "/opt/anaconda3/envs/mlops/lib/python3.12/site-packages/sklearn/model_selection/_split.py:776: UserWarning: The least populated class in y has only 1 members, which is less than n_splits=5.\n",
      "  warnings.warn(\n",
      "\n"
     ]
    },
    {
     "name": "stdout",
     "output_type": "stream",
     "text": [
      " 75%|███████▌  | 24/32 [01:44<00:15,  1.88s/trial, best loss: -0.17148991784914117]"
     ]
    },
    {
     "name": "stderr",
     "output_type": "stream",
     "text": [
      "/opt/anaconda3/envs/mlops/lib/python3.12/site-packages/sklearn/model_selection/_split.py:776: UserWarning: The least populated class in y has only 1 members, which is less than n_splits=5.\n",
      "  warnings.warn(\n",
      "\n",
      "/opt/anaconda3/envs/mlops/lib/python3.12/site-packages/sklearn/model_selection/_split.py:776: UserWarning: The least populated class in y has only 1 members, which is less than n_splits=5.\n",
      "  warnings.warn(\n",
      "\n",
      "/opt/anaconda3/envs/mlops/lib/python3.12/site-packages/sklearn/model_selection/_split.py:776: UserWarning: The least populated class in y has only 1 members, which is less than n_splits=5.\n",
      "  warnings.warn(\n",
      "\n",
      "/opt/anaconda3/envs/mlops/lib/python3.12/site-packages/sklearn/model_selection/_split.py:776: UserWarning: The least populated class in y has only 1 members, which is less than n_splits=5.\n",
      "  warnings.warn(\n",
      "\n",
      "/opt/anaconda3/envs/mlops/lib/python3.12/site-packages/sklearn/model_selection/_split.py:776: UserWarning: The least populated class in y has only 1 members, which is less than n_splits=5.\n",
      "  warnings.warn(\n",
      "\n",
      "/opt/anaconda3/envs/mlops/lib/python3.12/site-packages/sklearn/model_selection/_split.py:776: UserWarning: The least populated class in y has only 1 members, which is less than n_splits=5.\n",
      "  warnings.warn(\n",
      "\n",
      "/opt/anaconda3/envs/mlops/lib/python3.12/site-packages/sklearn/model_selection/_split.py:776: UserWarning: The least populated class in y has only 1 members, which is less than n_splits=5.\n",
      "  warnings.warn(\n",
      "\n",
      "/opt/anaconda3/envs/mlops/lib/python3.12/site-packages/sklearn/model_selection/_split.py:776: UserWarning: The least populated class in y has only 1 members, which is less than n_splits=5.\n",
      "  warnings.warn(\n",
      "\n",
      "/opt/anaconda3/envs/mlops/lib/python3.12/site-packages/sklearn/model_selection/_split.py:776: UserWarning: The least populated class in y has only 1 members, which is less than n_splits=5.\n",
      "  warnings.warn(\n",
      "\n",
      "/opt/anaconda3/envs/mlops/lib/python3.12/site-packages/sklearn/model_selection/_split.py:776: UserWarning: The least populated class in y has only 1 members, which is less than n_splits=5.\n",
      "  warnings.warn(\n",
      "\n",
      "/opt/anaconda3/envs/mlops/lib/python3.12/site-packages/sklearn/model_selection/_split.py:776: UserWarning: The least populated class in y has only 1 members, which is less than n_splits=5.\n",
      "  warnings.warn(\n",
      "\n"
     ]
    },
    {
     "name": "stdout",
     "output_type": "stream",
     "text": [
      "100%|██████████| 32/32 [01:44<00:00,  3.26s/trial, best loss: -0.17148991784914117]\n"
     ]
    },
    {
     "name": "stderr",
     "output_type": "stream",
     "text": [
      "/opt/anaconda3/envs/mlops/lib/python3.12/site-packages/sklearn/model_selection/_split.py:776: UserWarning: The least populated class in y has only 1 members, which is less than n_splits=5.\n",
      "  warnings.warn(\n",
      "\n",
      "/opt/anaconda3/envs/mlops/lib/python3.12/site-packages/sklearn/model_selection/_split.py:776: UserWarning: The least populated class in y has only 1 members, which is less than n_splits=5.\n",
      "  warnings.warn(\n",
      "\n",
      "/opt/anaconda3/envs/mlops/lib/python3.12/site-packages/sklearn/model_selection/_split.py:776: UserWarning: The least populated class in y has only 1 members, which is less than n_splits=5.\n",
      "  warnings.warn(\n",
      "\n"
     ]
    }
   ],
   "source": [
    "best_result = fmin(\n",
    "    fn=objective, space=search_space, algo=algo, max_evals=32, trials=trials\n",
    ")"
   ]
  },
  {
   "cell_type": "code",
   "execution_count": 14,
   "metadata": {},
   "outputs": [
    {
     "data": {
      "text/plain": [
       "{'classifier_type': 0,\n",
       " 'dtree_criterion': 1,\n",
       " 'dtree_max_depth': 1,\n",
       " 'dtree_max_depth_int': 3,\n",
       " 'dtree_min_samples_split': 8}"
      ]
     },
     "execution_count": 14,
     "metadata": {},
     "output_type": "execute_result"
    }
   ],
   "source": [
    "best_result"
   ]
  },
  {
   "cell_type": "markdown",
   "metadata": {},
   "source": [
    "# Top 3 Best models\n",
    "\n",
    "1. 0311863630594607bdc85a56ad9c50eb\n",
    "2. 190b280dca4648f6b65939a9d8e616bf\n",
    "3. b4f5c7052a0d4b68b1000bc5d4300104"
   ]
  },
  {
   "cell_type": "markdown",
   "metadata": {},
   "source": []
  },
  {
   "cell_type": "markdown",
   "metadata": {},
   "source": [
    "# Running on Test Data"
   ]
  },
  {
   "cell_type": "code",
   "execution_count": 16,
   "metadata": {},
   "outputs": [],
   "source": [
    "X_redcued_test = X_test.copy()\n",
    "VIF = [0]\n",
    "while len(VIF) > 0:\n",
    "    X_numeric = pd.DataFrame()\n",
    "    for col in X_redcued_test.columns:\n",
    "        # Force everything through string conversion to be safe\n",
    "        X_numeric[col] = pd.to_numeric(\n",
    "            X_train[col].astype(str), errors=\"coerce\"\n",
    "        )\n",
    "\n",
    "    # Now calculate VIF\n",
    "    vif_data = pd.DataFrame()\n",
    "    vif_data[\"Feature\"] = X_numeric.columns\n",
    "    vif_data[\"VIF\"] = [\n",
    "        variance_inflation_factor(X_numeric.values, i)\n",
    "        for i in range(X_numeric.shape[1])\n",
    "    ]\n",
    "    vif_test = vif_data.set_index(\"Feature\").sort_values(\n",
    "        by=\"VIF\", ascending=False\n",
    "    )\n",
    "    if vif_test.max().iloc[0] > 5:\n",
    "        # print(VIF)\n",
    "        VIF = vif_test.idxmax().iloc[0]\n",
    "        X_redcued_test.drop(VIF, axis=1, inplace=True)\n",
    "    else:\n",
    "        # print(\"Stopping\")\n",
    "        VIF = []"
   ]
  },
  {
   "cell_type": "code",
   "execution_count": 34,
   "metadata": {},
   "outputs": [],
   "source": [
    "def objective(params):\n",
    "    with mlflow.start_run():\n",
    "        classifier_type = params[\"type\"]\n",
    "        del params[\"type\"]\n",
    "        if classifier_type == \"dt\":\n",
    "            clf = DecisionTreeClassifier(**params)\n",
    "        elif classifier_type == \"rf\":\n",
    "            clf = RandomForestClassifier(**params)\n",
    "        elif classifier_type == \"gb\":\n",
    "            clf = GradientBoostingClassifier(**params)\n",
    "        else:\n",
    "            return 0\n",
    "        acc = cross_val_score(clf, X_redcued_test, y_test).mean()\n",
    "\n",
    "        mlflow.set_tag(\"Model\", classifier_type)\n",
    "        mlflow.log_params(params)\n",
    "        mlflow.log_metric(\"accuracy\", acc)\n",
    "        mlflow.end_run()\n",
    "        return {\"loss\": -acc, \"status\": STATUS_OK}\n",
    "\n",
    "\n",
    "search_space = hp.choice(\n",
    "    \"classifier_type\",\n",
    "    [\n",
    "        {\n",
    "            \"type\": \"dt\",\n",
    "            \"criterion\": hp.choice(\"dtree_criterion\", [\"gini\", \"entropy\"]),\n",
    "            \"max_depth\": hp.choice(\n",
    "                \"dtree_max_depth\",\n",
    "                [None, hp.randint(\"dtree_max_depth_int\", 1, 10)],\n",
    "            ),\n",
    "            \"min_samples_split\": hp.randint(\"dtree_min_samples_split\", 2, 10),\n",
    "        },\n",
    "        {\n",
    "            \"type\": \"rf\",\n",
    "            \"n_estimators\": hp.randint(\"rf_n_estimators\", 20, 500),\n",
    "            \"max_features\": hp.randint(\"rf_max_features\", 2, 9),\n",
    "            \"criterion\": hp.choice(\"criterion\", [\"gini\", \"entropy\"]),\n",
    "        },\n",
    "        {\n",
    "            \"type\": \"gb\",\n",
    "            \"loss\": hp.choice(\"gb_loss\", [\"log_loss\"]),\n",
    "            \"learning_rate\": hp.uniform(\"gb_learning_rate\", 0.05, 2),\n",
    "            \"n_estimators\": hp.randint(\"gb_n_estimators\", 20, 500),\n",
    "            \"subsample\": hp.uniform(\"gb_subsample\", 0.1, 1),\n",
    "            \"criterion\": hp.choice(\n",
    "                \"gb_criterion\", [\"friedman_mse\", \"squared_error\"]\n",
    "            ),\n",
    "            \"max_depth\": hp.choice(\n",
    "                \"gb_max_depth\",\n",
    "                [None, hp.randint(\"gb_max_depth_int\", 1, 10)],\n",
    "            ),\n",
    "        },\n",
    "    ],\n",
    ")\n",
    "\n",
    "algo = tpe.suggest\n",
    "trials = Trials()"
   ]
  },
  {
   "cell_type": "code",
   "execution_count": 35,
   "metadata": {},
   "outputs": [
    {
     "name": "stdout",
     "output_type": "stream",
     "text": [
      "  3%|▎         | 1/32 [00:00<00:04,  7.70trial/s, best loss: -0.16153846153846155]"
     ]
    },
    {
     "name": "stderr",
     "output_type": "stream",
     "text": [
      "/opt/anaconda3/envs/mlops/lib/python3.12/site-packages/sklearn/model_selection/_split.py:776: UserWarning: The least populated class in y has only 1 members, which is less than n_splits=5.\n",
      "  warnings.warn(\n",
      "\n",
      "/opt/anaconda3/envs/mlops/lib/python3.12/site-packages/sklearn/model_selection/_split.py:776: UserWarning: The least populated class in y has only 1 members, which is less than n_splits=5.\n",
      "  warnings.warn(\n",
      "\n"
     ]
    },
    {
     "name": "stdout",
     "output_type": "stream",
     "text": [
      "  6%|▋         | 2/32 [00:04<01:21,  2.72s/trial, best loss: -0.16153846153846155]"
     ]
    },
    {
     "name": "stderr",
     "output_type": "stream",
     "text": [
      "/opt/anaconda3/envs/mlops/lib/python3.12/site-packages/sklearn/model_selection/_split.py:776: UserWarning: The least populated class in y has only 1 members, which is less than n_splits=5.\n",
      "  warnings.warn(\n",
      "\n",
      "/opt/anaconda3/envs/mlops/lib/python3.12/site-packages/sklearn/model_selection/_split.py:776: UserWarning: The least populated class in y has only 1 members, which is less than n_splits=5.\n",
      "  warnings.warn(\n",
      "\n",
      "/opt/anaconda3/envs/mlops/lib/python3.12/site-packages/sklearn/model_selection/_split.py:776: UserWarning: The least populated class in y has only 1 members, which is less than n_splits=5.\n",
      "  warnings.warn(\n",
      "\n",
      "/opt/anaconda3/envs/mlops/lib/python3.12/site-packages/sklearn/model_selection/_split.py:776: UserWarning: The least populated class in y has only 1 members, which is less than n_splits=5.\n",
      "  warnings.warn(\n",
      "\n"
     ]
    },
    {
     "name": "stdout",
     "output_type": "stream",
     "text": [
      " 22%|██▏       | 7/32 [00:05<00:15,  1.60trial/s, best loss: -0.16153846153846155]"
     ]
    },
    {
     "name": "stderr",
     "output_type": "stream",
     "text": [
      "/opt/anaconda3/envs/mlops/lib/python3.12/site-packages/sklearn/model_selection/_split.py:776: UserWarning: The least populated class in y has only 1 members, which is less than n_splits=5.\n",
      "  warnings.warn(\n",
      "\n",
      "/opt/anaconda3/envs/mlops/lib/python3.12/site-packages/sklearn/model_selection/_split.py:776: UserWarning: The least populated class in y has only 1 members, which is less than n_splits=5.\n",
      "  warnings.warn(\n",
      "\n",
      "/opt/anaconda3/envs/mlops/lib/python3.12/site-packages/sklearn/model_selection/_split.py:776: UserWarning: The least populated class in y has only 1 members, which is less than n_splits=5.\n",
      "  warnings.warn(\n",
      "\n"
     ]
    },
    {
     "name": "stdout",
     "output_type": "stream",
     "text": [
      " 28%|██▊       | 9/32 [00:09<00:26,  1.16s/trial, best loss: -0.16153846153846155]"
     ]
    },
    {
     "name": "stderr",
     "output_type": "stream",
     "text": [
      "/opt/anaconda3/envs/mlops/lib/python3.12/site-packages/sklearn/model_selection/_split.py:776: UserWarning: The least populated class in y has only 1 members, which is less than n_splits=5.\n",
      "  warnings.warn(\n",
      "\n"
     ]
    },
    {
     "name": "stdout",
     "output_type": "stream",
     "text": [
      " 31%|███▏      | 10/32 [00:12<00:32,  1.46s/trial, best loss: -0.16153846153846155]"
     ]
    },
    {
     "name": "stderr",
     "output_type": "stream",
     "text": [
      "/opt/anaconda3/envs/mlops/lib/python3.12/site-packages/sklearn/model_selection/_split.py:776: UserWarning: The least populated class in y has only 1 members, which is less than n_splits=5.\n",
      "  warnings.warn(\n",
      "\n",
      "/opt/anaconda3/envs/mlops/lib/python3.12/site-packages/sklearn/model_selection/_split.py:776: UserWarning: The least populated class in y has only 1 members, which is less than n_splits=5.\n",
      "  warnings.warn(\n",
      "\n"
     ]
    },
    {
     "name": "stdout",
     "output_type": "stream",
     "text": [
      " 56%|█████▋    | 18/32 [00:15<00:08,  1.71trial/s, best loss: -0.16923076923076924]"
     ]
    },
    {
     "name": "stderr",
     "output_type": "stream",
     "text": [
      "/opt/anaconda3/envs/mlops/lib/python3.12/site-packages/sklearn/model_selection/_split.py:776: UserWarning: The least populated class in y has only 1 members, which is less than n_splits=5.\n",
      "  warnings.warn(\n",
      "\n",
      "/opt/anaconda3/envs/mlops/lib/python3.12/site-packages/sklearn/model_selection/_split.py:776: UserWarning: The least populated class in y has only 1 members, which is less than n_splits=5.\n",
      "  warnings.warn(\n",
      "\n",
      "/opt/anaconda3/envs/mlops/lib/python3.12/site-packages/sklearn/model_selection/_split.py:776: UserWarning: The least populated class in y has only 1 members, which is less than n_splits=5.\n",
      "  warnings.warn(\n",
      "\n",
      "/opt/anaconda3/envs/mlops/lib/python3.12/site-packages/sklearn/model_selection/_split.py:776: UserWarning: The least populated class in y has only 1 members, which is less than n_splits=5.\n",
      "  warnings.warn(\n",
      "\n",
      "/opt/anaconda3/envs/mlops/lib/python3.12/site-packages/sklearn/model_selection/_split.py:776: UserWarning: The least populated class in y has only 1 members, which is less than n_splits=5.\n",
      "  warnings.warn(\n",
      "\n",
      "/opt/anaconda3/envs/mlops/lib/python3.12/site-packages/sklearn/model_selection/_split.py:776: UserWarning: The least populated class in y has only 1 members, which is less than n_splits=5.\n",
      "  warnings.warn(\n",
      "\n",
      "/opt/anaconda3/envs/mlops/lib/python3.12/site-packages/sklearn/model_selection/_split.py:776: UserWarning: The least populated class in y has only 1 members, which is less than n_splits=5.\n",
      "  warnings.warn(\n",
      "\n"
     ]
    },
    {
     "name": "stdout",
     "output_type": "stream",
     "text": [
      " 62%|██████▎   | 20/32 [00:19<00:10,  1.16trial/s, best loss: -0.16923076923076924]"
     ]
    },
    {
     "name": "stderr",
     "output_type": "stream",
     "text": [
      "/opt/anaconda3/envs/mlops/lib/python3.12/site-packages/sklearn/model_selection/_split.py:776: UserWarning: The least populated class in y has only 1 members, which is less than n_splits=5.\n",
      "  warnings.warn(\n",
      "\n",
      "/opt/anaconda3/envs/mlops/lib/python3.12/site-packages/sklearn/model_selection/_split.py:776: UserWarning: The least populated class in y has only 1 members, which is less than n_splits=5.\n",
      "  warnings.warn(\n",
      "\n",
      "/opt/anaconda3/envs/mlops/lib/python3.12/site-packages/sklearn/model_selection/_split.py:776: UserWarning: The least populated class in y has only 1 members, which is less than n_splits=5.\n",
      "  warnings.warn(\n",
      "\n"
     ]
    },
    {
     "name": "stdout",
     "output_type": "stream",
     "text": [
      " 69%|██████▉   | 22/32 [00:19<00:07,  1.37trial/s, best loss: -0.16923076923076924]"
     ]
    },
    {
     "name": "stderr",
     "output_type": "stream",
     "text": [
      "/opt/anaconda3/envs/mlops/lib/python3.12/site-packages/sklearn/model_selection/_split.py:776: UserWarning: The least populated class in y has only 1 members, which is less than n_splits=5.\n",
      "  warnings.warn(\n",
      "\n",
      "/opt/anaconda3/envs/mlops/lib/python3.12/site-packages/sklearn/model_selection/_split.py:776: UserWarning: The least populated class in y has only 1 members, which is less than n_splits=5.\n",
      "  warnings.warn(\n",
      "\n",
      "/opt/anaconda3/envs/mlops/lib/python3.12/site-packages/sklearn/model_selection/_split.py:776: UserWarning: The least populated class in y has only 1 members, which is less than n_splits=5.\n",
      "  warnings.warn(\n",
      "\n",
      "/opt/anaconda3/envs/mlops/lib/python3.12/site-packages/sklearn/model_selection/_split.py:776: UserWarning: The least populated class in y has only 1 members, which is less than n_splits=5.\n",
      "  warnings.warn(\n",
      "\n"
     ]
    },
    {
     "name": "stdout",
     "output_type": "stream",
     "text": [
      " 81%|████████▏ | 26/32 [00:20<00:03,  1.97trial/s, best loss: -0.16923076923076924]"
     ]
    },
    {
     "name": "stderr",
     "output_type": "stream",
     "text": [
      "/opt/anaconda3/envs/mlops/lib/python3.12/site-packages/sklearn/model_selection/_split.py:776: UserWarning: The least populated class in y has only 1 members, which is less than n_splits=5.\n",
      "  warnings.warn(\n",
      "\n",
      "/opt/anaconda3/envs/mlops/lib/python3.12/site-packages/sklearn/model_selection/_split.py:776: UserWarning: The least populated class in y has only 1 members, which is less than n_splits=5.\n",
      "  warnings.warn(\n",
      "\n",
      "/opt/anaconda3/envs/mlops/lib/python3.12/site-packages/sklearn/model_selection/_split.py:776: UserWarning: The least populated class in y has only 1 members, which is less than n_splits=5.\n",
      "  warnings.warn(\n",
      "\n",
      "/opt/anaconda3/envs/mlops/lib/python3.12/site-packages/sklearn/model_selection/_split.py:776: UserWarning: The least populated class in y has only 1 members, which is less than n_splits=5.\n",
      "  warnings.warn(\n",
      "\n",
      "/opt/anaconda3/envs/mlops/lib/python3.12/site-packages/sklearn/model_selection/_split.py:776: UserWarning: The least populated class in y has only 1 members, which is less than n_splits=5.\n",
      "  warnings.warn(\n",
      "\n"
     ]
    },
    {
     "name": "stdout",
     "output_type": "stream",
     "text": [
      "100%|██████████| 32/32 [00:27<00:00,  1.17trial/s, best loss: -0.17692307692307693]\n"
     ]
    },
    {
     "name": "stderr",
     "output_type": "stream",
     "text": [
      "/opt/anaconda3/envs/mlops/lib/python3.12/site-packages/sklearn/model_selection/_split.py:776: UserWarning: The least populated class in y has only 1 members, which is less than n_splits=5.\n",
      "  warnings.warn(\n",
      "\n"
     ]
    }
   ],
   "source": [
    "best_result_test = fmin(\n",
    "    fn=objective, space=search_space, algo=algo, max_evals=32, trials=trials\n",
    ")"
   ]
  },
  {
   "cell_type": "code",
   "execution_count": 37,
   "metadata": {},
   "outputs": [
    {
     "data": {
      "text/plain": [
       "{'classifier_type': 0,\n",
       " 'dtree_criterion': 1,\n",
       " 'dtree_max_depth': 0,\n",
       " 'dtree_min_samples_split': 9}"
      ]
     },
     "execution_count": 37,
     "metadata": {},
     "output_type": "execute_result"
    }
   ],
   "source": [
    "best_result_test"
   ]
  },
  {
   "cell_type": "code",
   "execution_count": 41,
   "metadata": {},
   "outputs": [
    {
     "name": "stderr",
     "output_type": "stream",
     "text": [
      "Registered model 'Best_test_Lab2' already exists. Creating a new version of this model...\n",
      "Created version '2' of model 'Best_test_Lab2'.\n"
     ]
    },
    {
     "data": {
      "text/plain": [
       "<ModelVersion: aliases=[], creation_timestamp=1742525588969, current_stage='None', description=None, last_updated_timestamp=1742525588969, name='Best_test_Lab2', run_id='13b23d634e8b42ab87789617d4947ca1', run_link=None, source='/Users/skier/MSDS/Spring2/Spring2-MSDS-MLOps/labs/lab2/mlruns/4/13b23d634e8b42ab87789617d4947ca1/artifacts/artifacts/better_models', status='READY', status_message=None, tags={}, user_id=None, version=2>"
      ]
     },
     "execution_count": 41,
     "metadata": {},
     "output_type": "execute_result"
    }
   ],
   "source": [
    "runid = \"13b23d634e8b42ab87789617d4947ca1\"\n",
    "mod_path = f\"runs:/{runid}/artifacts/better_models\"\n",
    "mlflow.register_model(model_uri=mod_path, name=\"Best_test_Lab2\")"
   ]
  },
  {
   "cell_type": "code",
   "execution_count": null,
   "metadata": {},
   "outputs": [],
   "source": []
  }
 ],
 "metadata": {
  "kernelspec": {
   "display_name": "mlops",
   "language": "python",
   "name": "python3"
  },
  "language_info": {
   "codemirror_mode": {
    "name": "ipython",
    "version": 3
   },
   "file_extension": ".py",
   "mimetype": "text/x-python",
   "name": "python",
   "nbconvert_exporter": "python",
   "pygments_lexer": "ipython3",
   "version": "3.12.9"
  }
 },
 "nbformat": 4,
 "nbformat_minor": 2
}
